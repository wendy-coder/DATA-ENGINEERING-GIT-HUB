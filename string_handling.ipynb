{
  "nbformat": 4,
  "nbformat_minor": 0,
  "metadata": {
    "colab": {
      "name": "string handling.ipynb",
      "provenance": [],
      "authorship_tag": "ABX9TyPcXGwyCN0zR/r2FzQAM2nH",
      "include_colab_link": true
    },
    "kernelspec": {
      "name": "python3",
      "display_name": "Python 3"
    },
    "language_info": {
      "name": "python"
    }
  },
  "cells": [
    {
      "cell_type": "markdown",
      "metadata": {
        "id": "view-in-github",
        "colab_type": "text"
      },
      "source": [
        "<a href=\"https://colab.research.google.com/github/wendy-coder/DATA-ENGINEERING-GIT-HUB/blob/main/string_handling.ipynb\" target=\"_parent\"><img src=\"https://colab.research.google.com/assets/colab-badge.svg\" alt=\"Open In Colab\"/></a>"
      ]
    },
    {
      "cell_type": "markdown",
      "source": [
        "String handling : seperated splits \n",
        "\n",
        "```\n",
        "# This is formatted as code\n",
        "```\n",
        "\n"
      ],
      "metadata": {
        "id": "2H6-xFt1vUsz"
      }
    },
    {
      "cell_type": "code",
      "execution_count": 8,
      "metadata": {
        "colab": {
          "base_uri": "https://localhost:8080/"
        },
        "id": "Pxsdax2zvQbT",
        "outputId": "d3133f70-df58-40e0-a458-4f47ff948240"
      },
      "outputs": [
        {
          "output_type": "stream",
          "name": "stdout",
          "text": [
            "['Belgium', '10445852', 'brussels', '737966', 'europe', 'euro', 'catholic', 'dutch', 'french', 'german']\n",
            "<class 'str'>\n",
            "<class 'int'>\n"
          ]
        }
      ],
      "source": [
        "belgium = 'Belgium,10445852,brussels,737966,europe,euro,catholic,dutch,french,german'\n",
        "items = belgium.split(\",\")\n",
        "print(items)\n",
        "strrr = items[1]\n",
        "nuumbr = int(items[1])\n",
        "print(type(strrr) ) \n",
        "print(type(nuumbr))"
      ]
    },
    {
      "cell_type": "code",
      "source": [
        "if 'belgium'.istitle():\n",
        "  print('yes')"
      ],
      "metadata": {
        "id": "P_trfzxO1kV0"
      },
      "execution_count": 9,
      "outputs": []
    },
    {
      "cell_type": "code",
      "source": [
        "print('-' * len(belgium))"
      ],
      "metadata": {
        "colab": {
          "base_uri": "https://localhost:8080/"
        },
        "id": "1ptUmGA4wQ73",
        "outputId": "a9747091-90d5-414e-8c4e-030f88ae82ef"
      },
      "execution_count": 2,
      "outputs": [
        {
          "output_type": "stream",
          "name": "stdout",
          "text": [
            "-------------------------------------------------------------------------\n"
          ]
        }
      ]
    },
    {
      "cell_type": "code",
      "source": [
        "print(':'.join(items)) #.join, joins all the lengths"
      ],
      "metadata": {
        "colab": {
          "base_uri": "https://localhost:8080/"
        },
        "id": "Ry2y9Iizwfhw",
        "outputId": "918ebcae-413e-4d41-8d2e-911a774f7d4b"
      },
      "execution_count": 3,
      "outputs": [
        {
          "output_type": "stream",
          "name": "stdout",
          "text": [
            "Belgium:10445852:brussels:737966:europe:euro:catholic:dutch:french:german\n"
          ]
        }
      ]
    },
    {
      "cell_type": "code",
      "source": [
        "strr = \"my name is john.          \"\n",
        "output = strr.rstrip(). #removes spaces fromt he right , lstrip removes spaces from the left and strip removes one space only.\n",
        "print(output)"
      ],
      "metadata": {
        "colab": {
          "base_uri": "https://localhost:8080/"
        },
        "id": "s68iloRowy5x",
        "outputId": "855cd014-c444-4e72-f920-0c8c696ce7af"
      },
      "execution_count": 7,
      "outputs": [
        {
          "output_type": "stream",
          "name": "stdout",
          "text": [
            "my name is john.\n"
          ]
        }
      ]
    },
    {
      "cell_type": "code",
      "source": [
        "strr = \"my name is john.          \"\n",
        "output = strr.trim()\n",
        "print(output)"
      ],
      "metadata": {
        "id": "i-_NGXdTye5b"
      },
      "execution_count": null,
      "outputs": []
    },
    {
      "cell_type": "code",
      "source": [
        "text = 'hello world'\n",
        "print(text.count('o'))\n",
        "if text.startswith('hell'):\n",
        "   print(\"It's hell in there\")\n",
        "\n",
        "if text.isalpha():\n",
        "  print('string is all alpha')\n",
        "\n",
        "text= '\\t\\r\\n'\n",
        "if text.isspace():\n",
        "  print('string is whitespace')\n"
      ],
      "metadata": {
        "colab": {
          "base_uri": "https://localhost:8080/"
        },
        "id": "1F9XXDJZy7_E",
        "outputId": "5e46ea87-78b1-4536-a42f-6d1bd482d363"
      },
      "execution_count": 11,
      "outputs": [
        {
          "output_type": "stream",
          "name": "stdout",
          "text": [
            "2\n",
            "It's hell in there\n",
            "string is whitespace\n"
          ]
        }
      ]
    },
    {
      "cell_type": "code",
      "source": [
        "planets = {'mercury': 57.91,\n",
        "           'venus': 108.2,\n",
        "           'Earth': 149.597870,\n",
        "           'mars': 227.94\n",
        "           }\n",
        "for i, key in enumerate (planets.keys(), 1):\n",
        "  print(\"{:2d} {:10s} {:06.2f} Gm\".format(i, key, planets[key]))"
      ],
      "metadata": {
        "colab": {
          "base_uri": "https://localhost:8080/"
        },
        "id": "HmM-Mctk5GvP",
        "outputId": "b7c44870-dde5-4212-fe03-d1cf8e62b302"
      },
      "execution_count": 13,
      "outputs": [
        {
          "output_type": "stream",
          "name": "stdout",
          "text": [
            " 1 mercury    057.91 Gm\n",
            " 2 venus      108.20 Gm\n",
            " 3 Earth      149.60 Gm\n",
            " 4 mars       227.94 Gm\n"
          ]
        }
      ]
    },
    {
      "cell_type": "markdown",
      "source": [
        ".capitalise to capitalise a string \n",
        "string.lower()\n",
        "string.center()\n",
        "string.ljust()\n",
        "string.rjust()\n",
        "string.zfill()\n"
      ],
      "metadata": {
        "id": "tSlqrQPo65n-"
      }
    },
    {
      "cell_type": "code",
      "source": [
        "text ='hello'\n",
        "print(text.capitalize)\n",
        "print(text.lower)"
      ],
      "metadata": {
        "colab": {
          "base_uri": "https://localhost:8080/"
        },
        "id": "I75_Ci567Jlj",
        "outputId": "1116051d-f5b1-4a21-9425-d125fcd76288"
      },
      "execution_count": 15,
      "outputs": [
        {
          "output_type": "stream",
          "name": "stdout",
          "text": [
            "<built-in method capitalize of str object at 0x7f6ec06dcb70>\n",
            "<built-in method lower of str object at 0x7f6ec06dcb70>\n"
          ]
        }
      ]
    },
    {
      "cell_type": "code",
      "source": [
        ""
      ],
      "metadata": {
        "id": "G1_2fuVE7l1T"
      },
      "execution_count": null,
      "outputs": []
    }
  ]
}