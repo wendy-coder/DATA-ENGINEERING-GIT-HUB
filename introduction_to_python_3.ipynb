{
  "nbformat": 4,
  "nbformat_minor": 0,
  "metadata": {
    "colab": {
      "name": "introduction to python 3.ipynb",
      "provenance": [],
      "authorship_tag": "ABX9TyMny1WDStQhWJd1rdb1Xc3x",
      "include_colab_link": true
    },
    "kernelspec": {
      "name": "python3",
      "display_name": "Python 3"
    },
    "language_info": {
      "name": "python"
    }
  },
  "cells": [
    {
      "cell_type": "markdown",
      "metadata": {
        "id": "view-in-github",
        "colab_type": "text"
      },
      "source": [
        "<a href=\"https://colab.research.google.com/github/wendy-coder/DATA-ENGINEERING-GIT-HUB/blob/main/introduction_to_python_3.ipynb\" target=\"_parent\"><img src=\"https://colab.research.google.com/assets/colab-badge.svg\" alt=\"Open In Colab\"/></a>"
      ]
    },
    {
      "cell_type": "markdown",
      "source": [
        "An introduction to python 3 \n",
        "creating variables \n",
        "Print values \n",
        "\n",
        "\n"
      ],
      "metadata": {
        "id": "TzFdOp-q94_J"
      }
    },
    {
      "cell_type": "code",
      "execution_count": 7,
      "metadata": {
        "colab": {
          "base_uri": "https://localhost:8080/"
        },
        "id": "X2MpQkh39DS8",
        "outputId": "7e2723a4-2efa-43a3-e65f-c9599291bcaf"
      },
      "outputs": [
        {
          "output_type": "stream",
          "name": "stdout",
          "text": [
            "Weenddata segda\n",
            "['Weenddata', 'segda']\n"
          ]
        }
      ],
      "source": [
        "first = \"Weenddata\"\n",
        "last = \"segda\"\n",
        "print(first, last)\n",
        "\n",
        "\n"
      ]
    },
    {
      "cell_type": "code",
      "source": [
        "names= [first, last] #We use square brakets to create a list.\n",
        "print (names)   #in here you called a function called name.\n",
        "\n",
        "\n"
      ],
      "metadata": {
        "colab": {
          "base_uri": "https://localhost:8080/"
        },
        "id": "F6p2jtKvCElA",
        "outputId": "cde65159-1b84-4e91-f8e8-fd0c1ca57959"
      },
      "execution_count": 6,
      "outputs": [
        {
          "name": "stdout",
          "output_type": "stream",
          "text": [
            "['Weenddata', 'segda']\n",
            "pick a card (1-52):17\n"
          ]
        }
      ]
    },
    {
      "cell_type": "code",
      "source": [
        "boolvar = bool (1)\n",
        "print(bool)"
      ],
      "metadata": {
        "colab": {
          "base_uri": "https://localhost:8080/"
        },
        "id": "kCwC6XgLELfP",
        "outputId": "1b3a8580-21f1-493d-9f43-37d38ec98021"
      },
      "execution_count": 8,
      "outputs": [
        {
          "output_type": "stream",
          "name": "stdout",
          "text": [
            "<class 'bool'>\n"
          ]
        }
      ]
    }
  ]
}