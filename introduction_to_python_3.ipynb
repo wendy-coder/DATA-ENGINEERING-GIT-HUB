{
  "nbformat": 4,
  "nbformat_minor": 0,
  "metadata": {
    "colab": {
      "name": "introduction to python 3.ipynb",
      "provenance": [],
      "authorship_tag": "ABX9TyOTpoGEq0DojzTQEZBDdeks",
      "include_colab_link": true
    },
    "kernelspec": {
      "name": "python3",
      "display_name": "Python 3"
    },
    "language_info": {
      "name": "python"
    }
  },
  "cells": [
    {
      "cell_type": "markdown",
      "metadata": {
        "id": "view-in-github",
        "colab_type": "text"
      },
      "source": [
        "<a href=\"https://colab.research.google.com/github/wendy-coder/DATA-ENGINEERING-GIT-HUB/blob/main/introduction_to_python_3.ipynb\" target=\"_parent\"><img src=\"https://colab.research.google.com/assets/colab-badge.svg\" alt=\"Open In Colab\"/></a>"
      ]
    },
    {
      "cell_type": "markdown",
      "source": [
        "An introduction to python 3 \n",
        "creating variables \n",
        "Print values \n",
        "\n",
        "\n"
      ],
      "metadata": {
        "id": "TzFdOp-q94_J"
      }
    },
    {
      "cell_type": "code",
      "execution_count": null,
      "metadata": {
        "colab": {
          "base_uri": "https://localhost:8080/"
        },
        "id": "X2MpQkh39DS8",
        "outputId": "69b16db9-2943-4474-8a25-4c2bed53bed9"
      },
      "outputs": [
        {
          "output_type": "stream",
          "name": "stdout",
          "text": [
            "Weenddata segda\n"
          ]
        }
      ],
      "source": [
        "first = \"Weenddata\"\n",
        "last = \"segda\"\n",
        "print(first, last)\n",
        "\n"
      ]
    }
  ]
}