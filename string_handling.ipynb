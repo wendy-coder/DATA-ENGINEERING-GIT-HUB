{
  "nbformat": 4,
  "nbformat_minor": 0,
  "metadata": {
    "colab": {
      "name": "string handling.ipynb",
      "provenance": [],
      "authorship_tag": "ABX9TyPdLImwEieVrI75UnKwlNbB",
      "include_colab_link": true
    },
    "kernelspec": {
      "name": "python3",
      "display_name": "Python 3"
    },
    "language_info": {
      "name": "python"
    }
  },
  "cells": [
    {
      "cell_type": "markdown",
      "metadata": {
        "id": "view-in-github",
        "colab_type": "text"
      },
      "source": [
        "<a href=\"https://colab.research.google.com/github/wendy-coder/DATA-ENGINEERING-GIT-HUB/blob/main/string_handling.ipynb\" target=\"_parent\"><img src=\"https://colab.research.google.com/assets/colab-badge.svg\" alt=\"Open In Colab\"/></a>"
      ]
    },
    {
      "cell_type": "markdown",
      "source": [
        "String handling : seperated splits \n",
        "\n",
        "```\n",
        "# This is formatted as code\n",
        "```\n",
        "\n"
      ],
      "metadata": {
        "id": "2H6-xFt1vUsz"
      }
    },
    {
      "cell_type": "code",
      "execution_count": 1,
      "metadata": {
        "colab": {
          "base_uri": "https://localhost:8080/"
        },
        "id": "Pxsdax2zvQbT",
        "outputId": "9246ae53-0248-4f23-88f0-2f13a4c709ac"
      },
      "outputs": [
        {
          "output_type": "stream",
          "name": "stdout",
          "text": [
            "['Belgium', '10445852', 'brussels', '737966', 'europe', 'euro', 'catholic', 'dutch', 'french', 'german']\n"
          ]
        }
      ],
      "source": [
        "belgium = 'Belgium,10445852,brussels,737966,europe,euro,catholic,dutch,french,german'\n",
        "items = belgium.split(\",\")\n",
        "print(items)"
      ]
    },
    {
      "cell_type": "code",
      "source": [
        "print('-' * len(belgium))"
      ],
      "metadata": {
        "colab": {
          "base_uri": "https://localhost:8080/"
        },
        "id": "1ptUmGA4wQ73",
        "outputId": "a9747091-90d5-414e-8c4e-030f88ae82ef"
      },
      "execution_count": 2,
      "outputs": [
        {
          "output_type": "stream",
          "name": "stdout",
          "text": [
            "-------------------------------------------------------------------------\n"
          ]
        }
      ]
    },
    {
      "cell_type": "code",
      "source": [
        "print(':'.join(items)) #.join, joins all the lengths"
      ],
      "metadata": {
        "colab": {
          "base_uri": "https://localhost:8080/"
        },
        "id": "Ry2y9Iizwfhw",
        "outputId": "918ebcae-413e-4d41-8d2e-911a774f7d4b"
      },
      "execution_count": 3,
      "outputs": [
        {
          "output_type": "stream",
          "name": "stdout",
          "text": [
            "Belgium:10445852:brussels:737966:europe:euro:catholic:dutch:french:german\n"
          ]
        }
      ]
    },
    {
      "cell_type": "code",
      "source": [
        ""
      ],
      "metadata": {
        "id": "s68iloRowy5x"
      },
      "execution_count": null,
      "outputs": []
    }
  ]
}