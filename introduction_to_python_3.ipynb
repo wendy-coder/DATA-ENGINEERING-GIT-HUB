{
  "nbformat": 4,
  "nbformat_minor": 0,
  "metadata": {
    "colab": {
      "name": "introduction to python 3.ipynb",
      "provenance": [],
      "collapsed_sections": [],
      "authorship_tag": "ABX9TyMVIQxzqcibbl4Jxno3A53D",
      "include_colab_link": true
    },
    "kernelspec": {
      "name": "python3",
      "display_name": "Python 3"
    },
    "language_info": {
      "name": "python"
    }
  },
  "cells": [
    {
      "cell_type": "markdown",
      "metadata": {
        "id": "view-in-github",
        "colab_type": "text"
      },
      "source": [
        "<a href=\"https://colab.research.google.com/github/wendy-coder/DATA-ENGINEERING-GIT-HUB/blob/main/introduction_to_python_3.ipynb\" target=\"_parent\"><img src=\"https://colab.research.google.com/assets/colab-badge.svg\" alt=\"Open In Colab\"/></a>"
      ]
    },
    {
      "cell_type": "markdown",
      "source": [
        "An introduction to python 3 \n",
        "creating variables \n",
        "Print values \n",
        "\n",
        "\n"
      ],
      "metadata": {
        "id": "TzFdOp-q94_J"
      }
    },
    {
      "cell_type": "code",
      "execution_count": 17,
      "metadata": {
        "colab": {
          "base_uri": "https://localhost:8080/"
        },
        "id": "X2MpQkh39DS8",
        "outputId": "708d5f10-13f9-4753-e977-b567653af665"
      },
      "outputs": [
        {
          "output_type": "stream",
          "name": "stdout",
          "text": [
            "Weenddata segda\n",
            "70\n"
          ]
        }
      ],
      "source": [
        "first = \"Weenddata\"\n",
        "last = \"segda\"\n",
        "print(first, last)\n",
        "first.upper()\n",
        "a = 23 \n",
        "b = 47\n",
        "print(a+b)\n",
        "\n",
        "\n"
      ]
    },
    {
      "cell_type": "code",
      "source": [
        "names= [first, last, first] #We use square brakets to create a list.\n",
        "print (names)   #in here you called a function called name.\n",
        "name.upper() #upper function does not work with a list \n",
        "\n"
      ],
      "metadata": {
        "colab": {
          "base_uri": "https://localhost:8080/",
          "height": 232
        },
        "id": "F6p2jtKvCElA",
        "outputId": "43757a81-4efb-4d0c-8db6-810262e91e41"
      },
      "execution_count": 9,
      "outputs": [
        {
          "output_type": "stream",
          "name": "stdout",
          "text": [
            "['Weenddata', 'segda', 'Weenddata']\n"
          ]
        },
        {
          "output_type": "error",
          "ename": "NameError",
          "evalue": "ignored",
          "traceback": [
            "\u001b[0;31m---------------------------------------------------------------------------\u001b[0m",
            "\u001b[0;31mNameError\u001b[0m                                 Traceback (most recent call last)",
            "\u001b[0;32m<ipython-input-9-7c92a764477e>\u001b[0m in \u001b[0;36m<module>\u001b[0;34m()\u001b[0m\n\u001b[1;32m      1\u001b[0m \u001b[0mnames\u001b[0m\u001b[0;34m=\u001b[0m \u001b[0;34m[\u001b[0m\u001b[0mfirst\u001b[0m\u001b[0;34m,\u001b[0m \u001b[0mlast\u001b[0m\u001b[0;34m,\u001b[0m \u001b[0mfirst\u001b[0m\u001b[0;34m]\u001b[0m \u001b[0;31m#We use square brakets to create a list.\u001b[0m\u001b[0;34m\u001b[0m\u001b[0;34m\u001b[0m\u001b[0m\n\u001b[1;32m      2\u001b[0m \u001b[0mprint\u001b[0m \u001b[0;34m(\u001b[0m\u001b[0mnames\u001b[0m\u001b[0;34m)\u001b[0m   \u001b[0;31m#in here you called a function called name.\u001b[0m\u001b[0;34m\u001b[0m\u001b[0;34m\u001b[0m\u001b[0m\n\u001b[0;32m----> 3\u001b[0;31m \u001b[0mname\u001b[0m\u001b[0;34m.\u001b[0m\u001b[0mupper\u001b[0m\u001b[0;34m(\u001b[0m\u001b[0;34m)\u001b[0m\u001b[0;34m\u001b[0m\u001b[0;34m\u001b[0m\u001b[0m\n\u001b[0m\u001b[1;32m      4\u001b[0m \u001b[0;34m\u001b[0m\u001b[0m\n",
            "\u001b[0;31mNameError\u001b[0m: name 'name' is not defined"
          ]
        }
      ]
    },
    {
      "cell_type": "code",
      "source": [
        "boolvar = bool (1) #boolean variables 1 means the value is true and 2 means that the value is false\n",
        "print(bool)\n",
        "\n"
      ],
      "metadata": {
        "colab": {
          "base_uri": "https://localhost:8080/"
        },
        "id": "kCwC6XgLELfP",
        "outputId": "1b3a8580-21f1-493d-9f43-37d38ec98021"
      },
      "execution_count": 8,
      "outputs": [
        {
          "output_type": "stream",
          "name": "stdout",
          "text": [
            "<class 'bool'>\n"
          ]
        }
      ]
    },
    {
      "cell_type": "markdown",
      "source": [
        "augmented assigment \n"
      ],
      "metadata": {
        "id": "3OTb8YXscGAs"
      }
    },
    {
      "cell_type": "code",
      "source": [
        "numb = 23 \n",
        "number=2\n",
        "number += numb #this means now number is number plus num. += means one previous plus one fater is the one previous now\n",
        "print(number)"
      ],
      "metadata": {
        "colab": {
          "base_uri": "https://localhost:8080/"
        },
        "id": "D3kCfp77cekp",
        "outputId": "33c8f831-9ebf-4697-89a8-8d924922e094"
      },
      "execution_count": 18,
      "outputs": [
        {
          "output_type": "stream",
          "name": "stdout",
          "text": [
            "25\n"
          ]
        }
      ]
    },
    {
      "cell_type": "markdown",
      "source": [
        "Creating a dictionary "
      ],
      "metadata": {
        "id": "ypWAC05shuxs"
      }
    },
    {
      "cell_type": "code",
      "source": [
        "myDict= {'first':'weenddata', 'last':'segda'}\n",
        "print(myDict['first'], myDict['last'])"
      ],
      "metadata": {
        "colab": {
          "base_uri": "https://localhost:8080/"
        },
        "id": "lG32KmGady1v",
        "outputId": "66a1acf4-cca7-4d7e-9c83-a5ed8e1e0c66"
      },
      "execution_count": 25,
      "outputs": [
        {
          "output_type": "stream",
          "name": "stdout",
          "text": [
            "weenddata segda\n"
          ]
        }
      ]
    },
    {
      "cell_type": "code",
      "source": [
        "var = input( \"please enter a value: \")\n",
        "print(len(var))"
      ],
      "metadata": {
        "colab": {
          "base_uri": "https://localhost:8080/"
        },
        "id": "2MHqUbyihntY",
        "outputId": "e8d8084b-9d30-4f41-b980-8852e5435932"
      },
      "execution_count": 26,
      "outputs": [
        {
          "output_type": "stream",
          "name": "stdout",
          "text": [
            "please enter a value: 98\n",
            "2\n"
          ]
        }
      ]
    },
    {
      "cell_type": "code",
      "source": [
        "var = input( \"please enter a value: \")\n",
        "print(len(var.isdecimal))"
      ],
      "metadata": {
        "colab": {
          "base_uri": "https://localhost:8080/",
          "height": 198
        },
        "id": "qMH78-GkitfN",
        "outputId": "923e981e-fd79-4fba-ad6d-727a9346a3b3"
      },
      "execution_count": 29,
      "outputs": [
        {
          "name": "stdout",
          "output_type": "stream",
          "text": [
            "please enter a value: 9.9\n"
          ]
        },
        {
          "output_type": "error",
          "ename": "TypeError",
          "evalue": "ignored",
          "traceback": [
            "\u001b[0;31m---------------------------------------------------------------------------\u001b[0m",
            "\u001b[0;31mTypeError\u001b[0m                                 Traceback (most recent call last)",
            "\u001b[0;32m<ipython-input-29-74fb81f802d9>\u001b[0m in \u001b[0;36m<module>\u001b[0;34m()\u001b[0m\n\u001b[1;32m      1\u001b[0m \u001b[0mvar\u001b[0m \u001b[0;34m=\u001b[0m \u001b[0minput\u001b[0m\u001b[0;34m(\u001b[0m \u001b[0;34m\"please enter a value: \"\u001b[0m\u001b[0;34m)\u001b[0m\u001b[0;34m\u001b[0m\u001b[0;34m\u001b[0m\u001b[0m\n\u001b[0;32m----> 2\u001b[0;31m \u001b[0mprint\u001b[0m\u001b[0;34m(\u001b[0m\u001b[0mlen\u001b[0m\u001b[0;34m(\u001b[0m\u001b[0mvar\u001b[0m\u001b[0;34m.\u001b[0m\u001b[0misdecimal\u001b[0m\u001b[0;34m)\u001b[0m\u001b[0;34m)\u001b[0m\u001b[0;34m\u001b[0m\u001b[0;34m\u001b[0m\u001b[0m\n\u001b[0m",
            "\u001b[0;31mTypeError\u001b[0m: object of type 'builtin_function_or_method' has no len()"
          ]
        }
      ]
    },
    {
      "cell_type": "markdown",
      "source": [
        "Exercise to show how variables works "
      ],
      "metadata": {
        "id": "bJE2FdsFkvc9"
      }
    },
    {
      "cell_type": "code",
      "source": [
        "#This race requires 45 laps \n",
        "#how much fuel is required\n",
        "fuel_per_lap = 2.25\n",
        "laps = 45\n",
        "fuel_requirement = fuel_per_lap* laps\n",
        "\n",
        "fuel=fuel_requirement*1.5 #the fuel we carry should be at least 50% extract.\n",
        "print( \"full fuel load: \", fuel, \"kg\")\n",
        "\n"
      ],
      "metadata": {
        "colab": {
          "base_uri": "https://localhost:8080/"
        },
        "id": "aeq0r5wgi8Kl",
        "outputId": "85748689-a591-41c0-d324-c088bd898a0b"
      },
      "execution_count": 31,
      "outputs": [
        {
          "output_type": "stream",
          "name": "stdout",
          "text": [
            "full fuel load:  151.875 kg\n"
          ]
        }
      ]
    },
    {
      "cell_type": "markdown",
      "source": [
        "Flow control \n",
        "\n",
        "Python conditionals: using conditions working with python \n"
      ],
      "metadata": {
        "id": "cHK8MkP7o4js"
      }
    },
    {
      "cell_type": "code",
      "source": [
        "fuel_per_lap = 2.25\n",
        "laps = 45\n",
        "fuel_requirement = fuel_per_lap* laps\n",
        "\n",
        "fuel=fuel_requirement*1.5 #the fuel we carry should be at least 50% extract.\n",
        "print( \"full fuel load: \", fuel, \"kg\")\n",
        "\n",
        "if fuel <= 20: \n",
        " print(\"low fuel for the journey\")\n",
        "elif fuel <200: #this is !=\n",
        " print(\"enaugh fuel for the journey\")\n",
        "else:\n",
        " print(\"high fuel\")\n",
        "\n",
        "\n"
      ],
      "metadata": {
        "colab": {
          "base_uri": "https://localhost:8080/"
        },
        "id": "PCIYovJ-pMli",
        "outputId": "64abe358-672a-4f64-a7e2-d315ce89be9f"
      },
      "execution_count": 38,
      "outputs": [
        {
          "output_type": "stream",
          "name": "stdout",
          "text": [
            "full fuel load:  151.875 kg\n",
            "enaugh fuel for the journey\n"
          ]
        }
      ]
    },
    {
      "cell_type": "code",
      "source": [
        "#What is truth \n",
        "lang =[ 'perl' 'python', 'php', 'ruby']\n",
        "if 'python' in lang : \n",
        "  print('True')"
      ],
      "metadata": {
        "id": "jSze6lD_qvsS"
      },
      "execution_count": 41,
      "outputs": []
    },
    {
      "cell_type": "code",
      "source": [
        "import sys\n",
        "PIN = \"3446\"\n",
        "LIMIT = 4\n",
        "\n",
        "for tries in range(1,LIMIT):\n",
        "  supplied_pin=input(\"enter your pin: \")\n",
        "  if supplied_pin== PIN:\n",
        "    print(\"congos, correct pin\")\n",
        "    print(\"... and after only\", tries, \"attempts\")\n",
        "  else: \n",
        "    print(\"you had \", tries, \"tries and failed\")\n",
        "\n",
        "\n"
      ],
      "metadata": {
        "colab": {
          "base_uri": "https://localhost:8080/"
        },
        "id": "3FjvwLjP1ajS",
        "outputId": "ac48f083-a185-44f0-e49b-33dbb2266b73"
      },
      "execution_count": null,
      "outputs": [
        {
          "output_type": "stream",
          "name": "stdout",
          "text": [
            "enter your pin: 333\n",
            "you had  1 tries and failed\n",
            "enter your pin: 3446\n",
            "congos, correct pin\n",
            "... and after only 2 attempts\n"
          ]
        }
      ]
    }
  ]
}